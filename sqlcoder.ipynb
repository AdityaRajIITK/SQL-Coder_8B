{
 "cells": [
  {
   "cell_type": "code",
   "execution_count": 1,
   "metadata": {},
   "outputs": [
    {
     "name": "stderr",
     "output_type": "stream",
     "text": [
      "/Users/adityakumarraj/Desktop/sqlcoder-8b/venv/lib/python3.9/site-packages/urllib3/__init__.py:35: NotOpenSSLWarning: urllib3 v2 only supports OpenSSL 1.1.1+, currently the 'ssl' module is compiled with 'LibreSSL 2.8.3'. See: https://github.com/urllib3/urllib3/issues/3020\n",
      "  warnings.warn(\n"
     ]
    }
   ],
   "source": [
    "import pandas as pd\n",
    "import psycopg2\n",
    "from sqlalchemy import create_engine\n",
    "import torch\n",
    "from transformers import AutoModelForCausalLM, AutoTokenizer\n",
    "from huggingface_hub import login\n",
    "\n",
    "login(token = \"Your_huggingface_token\")\n",
    "\n",
    "# PostgreSQL connection parameters\n",
    "db_params = {\n",
    "    \"dbname\": \"data\",\n",
    "    \"user\": \"adityakumarraj\",\n",
    "    \"password\": \"Aa%%407909013706\",\n",
    "    \"host\": \"localhost\",\n",
    "    \"port\": \"5432\"\n",
    "}"
   ]
  },
  {
   "cell_type": "code",
   "execution_count": 2,
   "metadata": {},
   "outputs": [
    {
     "name": "stdout",
     "output_type": "stream",
     "text": [
      "Successfully connected to the database!\n"
     ]
    }
   ],
   "source": [
    "# Create database connection\n",
    "try:\n",
    "    conn = psycopg2.connect(**db_params)\n",
    "    print(\"Successfully connected to the database!\")\n",
    "    \n",
    "    # Create SQLAlchemy engine\n",
    "    engine = create_engine(f'postgresql://{db_params[\"user\"]}:{db_params[\"password\"]}@{db_params[\"host\"]}:{db_params[\"port\"]}/{db_params[\"dbname\"]}')\n",
    "    \n",
    "except Exception as e:\n",
    "    print(f\"Error connecting to the database: {e}\")"
   ]
  },
  {
   "cell_type": "code",
   "execution_count": 3,
   "metadata": {},
   "outputs": [
    {
     "data": {
      "application/vnd.jupyter.widget-view+json": {
       "model_id": "dd5a8015e73a4b4a8e38661f50a1d1ce",
       "version_major": 2,
       "version_minor": 0
      },
      "text/plain": [
       "Loading checkpoint shards:   0%|          | 0/4 [00:00<?, ?it/s]"
      ]
     },
     "metadata": {},
     "output_type": "display_data"
    },
    {
     "name": "stderr",
     "output_type": "stream",
     "text": [
      "/Users/adityakumarraj/Desktop/sqlcoder-8b/venv/lib/python3.9/site-packages/transformers/generation/configuration_utils.py:631: UserWarning: `do_sample` is set to `False`. However, `temperature` is set to `0` -- this flag is only used in sample-based generation modes. You should set `do_sample=True` or unset `temperature`. This was detected when initializing the generation config instance, which means the corresponding file may hold incorrect parameterization and should be fixed.\n",
      "  warnings.warn(\n",
      "/Users/adityakumarraj/Desktop/sqlcoder-8b/venv/lib/python3.9/site-packages/transformers/generation/configuration_utils.py:631: UserWarning: `do_sample` is set to `False`. However, `temperature` is set to `0` -- this flag is only used in sample-based generation modes. You should set `do_sample=True` or unset `temperature`.\n",
      "  warnings.warn(\n"
     ]
    }
   ],
   "source": [
    "from transformers import AutoModelForCausalLM, AutoTokenizer\n",
    "import torch\n",
    "\n",
    "\n",
    "model_name = \"defog/llama-3-sqlcoder-8b\"  \n",
    "tokenizer = AutoTokenizer.from_pretrained(model_name)\n",
    "model = AutoModelForCausalLM.from_pretrained(\n",
    "    model_name\n",
    ")"
   ]
  },
  {
   "cell_type": "code",
   "execution_count": 4,
   "metadata": {},
   "outputs": [
    {
     "name": "stdout",
     "output_type": "stream",
     "text": [
      "\n",
      "Database Schema:\n"
     ]
    },
    {
     "data": {
      "text/html": [
       "<div>\n",
       "<style scoped>\n",
       "    .dataframe tbody tr th:only-of-type {\n",
       "        vertical-align: middle;\n",
       "    }\n",
       "\n",
       "    .dataframe tbody tr th {\n",
       "        vertical-align: top;\n",
       "    }\n",
       "\n",
       "    .dataframe thead th {\n",
       "        text-align: right;\n",
       "    }\n",
       "</style>\n",
       "<table border=\"1\" class=\"dataframe\">\n",
       "  <thead>\n",
       "    <tr style=\"text-align: right;\">\n",
       "      <th></th>\n",
       "      <th>table_name</th>\n",
       "      <th>column_name</th>\n",
       "      <th>data_type</th>\n",
       "      <th>is_nullable</th>\n",
       "    </tr>\n",
       "  </thead>\n",
       "  <tbody>\n",
       "    <tr>\n",
       "      <th>0</th>\n",
       "      <td>costs_data</td>\n",
       "      <td>id</td>\n",
       "      <td>bigint</td>\n",
       "      <td>NO</td>\n",
       "    </tr>\n",
       "    <tr>\n",
       "      <th>1</th>\n",
       "      <td>costs_data</td>\n",
       "      <td>account_id</td>\n",
       "      <td>bigint</td>\n",
       "      <td>YES</td>\n",
       "    </tr>\n",
       "    <tr>\n",
       "      <th>2</th>\n",
       "      <td>costs_data</td>\n",
       "      <td>product_name</td>\n",
       "      <td>text</td>\n",
       "      <td>YES</td>\n",
       "    </tr>\n",
       "    <tr>\n",
       "      <th>3</th>\n",
       "      <td>costs_data</td>\n",
       "      <td>date_day</td>\n",
       "      <td>date</td>\n",
       "      <td>YES</td>\n",
       "    </tr>\n",
       "    <tr>\n",
       "      <th>4</th>\n",
       "      <td>costs_data</td>\n",
       "      <td>category</td>\n",
       "      <td>text</td>\n",
       "      <td>YES</td>\n",
       "    </tr>\n",
       "    <tr>\n",
       "      <th>...</th>\n",
       "      <td>...</td>\n",
       "      <td>...</td>\n",
       "      <td>...</td>\n",
       "      <td>...</td>\n",
       "    </tr>\n",
       "    <tr>\n",
       "      <th>112</th>\n",
       "      <td>projectdata</td>\n",
       "      <td>gpuquota</td>\n",
       "      <td>integer</td>\n",
       "      <td>YES</td>\n",
       "    </tr>\n",
       "    <tr>\n",
       "      <th>113</th>\n",
       "      <td>projectdata</td>\n",
       "      <td>cpuquota</td>\n",
       "      <td>integer</td>\n",
       "      <td>YES</td>\n",
       "    </tr>\n",
       "    <tr>\n",
       "      <th>114</th>\n",
       "      <td>projectdata</td>\n",
       "      <td>memoryquota</td>\n",
       "      <td>integer</td>\n",
       "      <td>YES</td>\n",
       "    </tr>\n",
       "    <tr>\n",
       "      <th>115</th>\n",
       "      <td>projectdata</td>\n",
       "      <td>createdat</td>\n",
       "      <td>timestamp without time zone</td>\n",
       "      <td>YES</td>\n",
       "    </tr>\n",
       "    <tr>\n",
       "      <th>116</th>\n",
       "      <td>projectdata</td>\n",
       "      <td>lastfetched</td>\n",
       "      <td>timestamp without time zone</td>\n",
       "      <td>YES</td>\n",
       "    </tr>\n",
       "  </tbody>\n",
       "</table>\n",
       "<p>117 rows × 4 columns</p>\n",
       "</div>"
      ],
      "text/plain": [
       "      table_name   column_name                    data_type is_nullable\n",
       "0     costs_data            id                       bigint          NO\n",
       "1     costs_data    account_id                       bigint         YES\n",
       "2     costs_data  product_name                         text         YES\n",
       "3     costs_data      date_day                         date         YES\n",
       "4     costs_data      category                         text         YES\n",
       "..           ...           ...                          ...         ...\n",
       "112  projectdata      gpuquota                      integer         YES\n",
       "113  projectdata      cpuquota                      integer         YES\n",
       "114  projectdata   memoryquota                      integer         YES\n",
       "115  projectdata     createdat  timestamp without time zone         YES\n",
       "116  projectdata   lastfetched  timestamp without time zone         YES\n",
       "\n",
       "[117 rows x 4 columns]"
      ]
     },
     "metadata": {},
     "output_type": "display_data"
    }
   ],
   "source": [
    "import psycopg2\n",
    "import pandas as pd\n",
    "from sqlalchemy import create_engine\n",
    "\n",
    "db_params = {\n",
    "    \"dbname\": \"data\",\n",
    "    \"user\": \"adityakumarraj\",\n",
    "    \"password\": \"Aa%%407909013706\",\n",
    "    \"host\": \"localhost\",\n",
    "    \"port\": \"5432\"\n",
    "}\n",
    "conn = psycopg2.connect(**db_params)\n",
    "engine = create_engine(f'postgresql://{db_params[\"user\"]}:{db_params[\"password\"]}@{db_params[\"host\"]}:{db_params[\"port\"]}/{db_params[\"dbname\"]}')\n",
    "\n",
    "def get_schema_info():\n",
    "    schema_query = \"\"\"\n",
    "    SELECT \n",
    "        table_name,\n",
    "        column_name,\n",
    "        data_type,\n",
    "        is_nullable\n",
    "    FROM information_schema.columns\n",
    "    WHERE table_schema = 'public'\n",
    "    ORDER BY table_name, ordinal_position;\n",
    "    \"\"\"\n",
    "    return pd.read_sql_query(schema_query, engine)\n",
    "\n",
    "# Get schema information\n",
    "schema_df = get_schema_info()\n",
    "print(\"\\nDatabase Schema:\")\n",
    "display(schema_df)"
   ]
  },
  {
   "cell_type": "code",
   "execution_count": 5,
   "metadata": {},
   "outputs": [
    {
     "name": "stdout",
     "output_type": "stream",
     "text": [
      "\n",
      "Nodedata Table Schema:\n"
     ]
    },
    {
     "data": {
      "text/html": [
       "<div>\n",
       "<style scoped>\n",
       "    .dataframe tbody tr th:only-of-type {\n",
       "        vertical-align: middle;\n",
       "    }\n",
       "\n",
       "    .dataframe tbody tr th {\n",
       "        vertical-align: top;\n",
       "    }\n",
       "\n",
       "    .dataframe thead th {\n",
       "        text-align: right;\n",
       "    }\n",
       "</style>\n",
       "<table border=\"1\" class=\"dataframe\">\n",
       "  <thead>\n",
       "    <tr style=\"text-align: right;\">\n",
       "      <th></th>\n",
       "      <th>column_name</th>\n",
       "      <th>data_type</th>\n",
       "      <th>is_nullable</th>\n",
       "    </tr>\n",
       "  </thead>\n",
       "  <tbody>\n",
       "    <tr>\n",
       "      <th>0</th>\n",
       "      <td>nodeid</td>\n",
       "      <td>text</td>\n",
       "      <td>NO</td>\n",
       "    </tr>\n",
       "    <tr>\n",
       "      <th>1</th>\n",
       "      <td>nodename</td>\n",
       "      <td>text</td>\n",
       "      <td>YES</td>\n",
       "    </tr>\n",
       "    <tr>\n",
       "      <th>2</th>\n",
       "      <td>clustername</td>\n",
       "      <td>text</td>\n",
       "      <td>YES</td>\n",
       "    </tr>\n",
       "    <tr>\n",
       "      <th>3</th>\n",
       "      <td>instancetype</td>\n",
       "      <td>text</td>\n",
       "      <td>YES</td>\n",
       "    </tr>\n",
       "    <tr>\n",
       "      <th>4</th>\n",
       "      <td>tags</td>\n",
       "      <td>text</td>\n",
       "      <td>YES</td>\n",
       "    </tr>\n",
       "    <tr>\n",
       "      <th>5</th>\n",
       "      <td>created</td>\n",
       "      <td>timestamp without time zone</td>\n",
       "      <td>YES</td>\n",
       "    </tr>\n",
       "    <tr>\n",
       "      <th>6</th>\n",
       "      <td>snapshottime</td>\n",
       "      <td>timestamp without time zone</td>\n",
       "      <td>YES</td>\n",
       "    </tr>\n",
       "    <tr>\n",
       "      <th>7</th>\n",
       "      <td>platform</td>\n",
       "      <td>text</td>\n",
       "      <td>YES</td>\n",
       "    </tr>\n",
       "  </tbody>\n",
       "</table>\n",
       "</div>"
      ],
      "text/plain": [
       "    column_name                    data_type is_nullable\n",
       "0        nodeid                         text          NO\n",
       "1      nodename                         text         YES\n",
       "2   clustername                         text         YES\n",
       "3  instancetype                         text         YES\n",
       "4          tags                         text         YES\n",
       "5       created  timestamp without time zone         YES\n",
       "6  snapshottime  timestamp without time zone         YES\n",
       "7      platform                         text         YES"
      ]
     },
     "metadata": {},
     "output_type": "display_data"
    }
   ],
   "source": [
    "def get_nodedata_schema():\n",
    "    schema_query = \"\"\"\n",
    "    SELECT \n",
    "        column_name,\n",
    "        data_type,\n",
    "        is_nullable\n",
    "    FROM information_schema.columns\n",
    "    WHERE table_schema = 'public' \n",
    "    AND table_name = 'nodedata'\n",
    "    ORDER BY ordinal_position;\n",
    "    \"\"\"\n",
    "    return pd.read_sql_query(schema_query, engine)\n",
    "\n",
    "# Get schema information\n",
    "nodedata_schema = get_nodedata_schema()\n",
    "print(\"\\nNodedata Table Schema:\")\n",
    "display(nodedata_schema)"
   ]
  },
  {
   "cell_type": "code",
   "execution_count": null,
   "metadata": {},
   "outputs": [
    {
     "data": {
      "application/vnd.jupyter.widget-view+json": {
       "model_id": "4bafac352fa24088beebde0c1bb8aaaa",
       "version_major": 2,
       "version_minor": 0
      },
      "text/plain": [
       "Loading checkpoint shards:   0%|          | 0/4 [00:00<?, ?it/s]"
      ]
     },
     "metadata": {},
     "output_type": "display_data"
    },
    {
     "name": "stderr",
     "output_type": "stream",
     "text": [
      "/Users/adityakumarraj/Desktop/sqlcoder-8b/venv/lib/python3.9/site-packages/transformers/generation/configuration_utils.py:631: UserWarning: `do_sample` is set to `False`. However, `temperature` is set to `0` -- this flag is only used in sample-based generation modes. You should set `do_sample=True` or unset `temperature`. This was detected when initializing the generation config instance, which means the corresponding file may hold incorrect parameterization and should be fixed.\n",
      "  warnings.warn(\n",
      "/Users/adityakumarraj/Desktop/sqlcoder-8b/venv/lib/python3.9/site-packages/transformers/generation/configuration_utils.py:631: UserWarning: `do_sample` is set to `False`. However, `temperature` is set to `0` -- this flag is only used in sample-based generation modes. You should set `do_sample=True` or unset `temperature`.\n",
      "  warnings.warn(\n",
      "Some parameters are on the meta device because they were offloaded to the disk.\n"
     ]
    }
   ],
   "source": [
    "# --- Initialization section ---\n",
    "import torch\n",
    "from transformers import AutoTokenizer, AutoModelForCausalLM\n",
    "import sqlparse\n",
    "import psutil\n",
    "\n",
    "available_memory = psutil.virtual_memory().available\n",
    "\n",
    "model_name = \"defog/llama-3-sqlcoder-8b\"\n",
    "tokenizer = AutoTokenizer.from_pretrained(model_name)\n",
    "\n",
    "# Set prompt template (initialized once)\n",
    "prompt = \"\"\"<|begin_of_text|><|start_header_id|>user<|end_header_id|>\n",
    "\n",
    "Generate a SQL query to answer this question: `{user_question}`\n",
    "\n",
    "### Database Schema\n",
    "CREATE TABLE nodedata (\n",
    "nodeid TEXT PRIMARY KEY, -- Unique identifier for the node\n",
    "nodename TEXT, -- Name of the node\n",
    "clustername TEXT, -- Name of the Kubernetes or compute cluster\n",
    "instancetype TEXT, -- EC2 instance type or VM size (e.g., c5.18xlarge, p4d.24xlarge)\n",
    "tags TEXT, -- JSON-style string of metadata tags (key/value pairs)\n",
    "created TIMESTAMP WITHOUT TIME ZONE, -- When the node was first created\n",
    "snapshottime TIMESTAMP WITHOUT TIME ZONE, -- When this snapshot of node metadata was taken\n",
    "platform TEXT -- Runtime platform or orchestration tool (e.g., runai, kubernetes)\n",
    ");\n",
    "\n",
    "If you cannot answer the question with the available database schema, return 'I do not know'\n",
    "The following SQL query best answers the question `{user_question}`:\n",
    "```sql\"\"\"\n",
    "\n",
    "if available_memory > 15e9:\n",
    "    model = AutoModelForCausalLM.from_pretrained(\n",
    "        model_name,\n",
    "        trust_remote_code=True,\n",
    "        torch_dtype=torch.float16,\n",
    "        device_map=\"auto\",\n",
    "        use_cache=True,\n",
    "    )\n",
    "else:\n",
    "    model = AutoModelForCausalLM.from_pretrained(\n",
    "        model_name,\n",
    "        trust_remote_code=True,\n",
    "        device_map=\"auto\",\n",
    "        use_cache=True,\n",
    "    )\n",
    "\n",
    "\n",
    "# --- Generation function ---\n",
    "def generate_query(question: str) -> str:\n",
    "    formatted_prompt = prompt.format(user_question=question)\n",
    "    inputs = tokenizer(formatted_prompt, return_tensors=\"pt\").to(model.device)\n",
    "\n",
    "    with torch.no_grad():\n",
    "        generated_ids = model.generate(\n",
    "            **inputs,\n",
    "            num_return_sequences=1,\n",
    "            eos_token_id=tokenizer.eos_token_id,\n",
    "            pad_token_id=tokenizer.eos_token_id,\n",
    "            max_new_tokens=400,\n",
    "            do_sample=False,\n",
    "        )\n",
    "\n",
    "    outputs = tokenizer.batch_decode(generated_ids, skip_special_tokens=True)\n",
    "    raw_sql = outputs[0].split(\"```sql\")[-1].split(\"```\")[0].strip()\n",
    "    return sqlparse.format(raw_sql, reindent=True)  \n",
    "\n",
    "\n",
    "def query_database(question: str, engine):\n",
    "    print(f\"Question: {question}\\n\")\n",
    "    sql_query = generate_query(question)\n",
    "    print(\"Generated SQL Query:\")\n",
    "    print(sql_query)\n",
    "    print(\"\\nQuery Result:\")\n",
    "\n",
    "    try:\n",
    "        result = pd.read_sql_query(sql_query, engine)\n",
    "        display(result)\n",
    "    except Exception as e:\n",
    "        print(f\"Error executing query: {e}\")"
   ]
  },
  {
   "cell_type": "code",
   "execution_count": 7,
   "metadata": {},
   "outputs": [],
   "source": [
    "# import torch\n",
    "# from transformers import AutoTokenizer, AutoModelForCausalLM\n",
    "# import pandas as pd\n",
    "\n",
    "\n",
    "# # Pre-build static schema string\n",
    "# schema_str = \"\\n\".join(\n",
    "#     f\"Column {row['column_name']} with type {row['data_type']}\"\n",
    "#     for _, row in nodedata_schema.iterrows()\n",
    "# )\n",
    "\n",
    "# # Optional cache to avoid regenerating for repeated questions\n",
    "# _sql_cache = {}\n",
    "\n",
    "# def generate_sql_for_nodedata(question: str) -> str:\n",
    "#     # Return cached result if available\n",
    "#     if question in _sql_cache:\n",
    "#         return _sql_cache[question]\n",
    "\n",
    "#     # Assemble prompt\n",
    "#     prompt = f\"\"\"\n",
    "# ### Task\n",
    "# Generate a PostgreSQL query to answer the following question about the nodedata table:\n",
    "# {question}\n",
    "\n",
    "# ### Database Schema\n",
    "# CREATE TABLE nodedata (\n",
    "# nodeid TEXT PRIMARY KEY, -- Unique identifier for the node\n",
    "# nodename TEXT, -- Name of the node\n",
    "# clustername TEXT, -- Name of the Kubernetes or compute cluster\n",
    "# instancetype TEXT, -- EC2 instance type or VM size (e.g., c5.18xlarge, p4d.24xlarge)\n",
    "# tags TEXT, -- JSON-style string of metadata tags (key/value pairs)\n",
    "# created TIMESTAMP WITHOUT TIME ZONE, -- When the node was first created\n",
    "# snapshottime TIMESTAMP WITHOUT TIME ZONE, -- When this snapshot of node metadata was taken\n",
    "# platform TEXT -- Runtime platform or orchestration tool (e.g., runai, kubernetes)\n",
    "# );\n",
    "\n",
    "# ### Response\n",
    "# Here's a PostgreSQL query to answer your question:\n",
    "# \"\"\"\n",
    "#     # Tokenize and generate within no_grad to speed up\n",
    "#     inputs = tokenizer(prompt, return_tensors=\"pt\").to(model.device)\n",
    "#     with torch.no_grad():\n",
    "#         outputs = model.generate(\n",
    "#             **inputs,\n",
    "#             max_new_tokens=150,      # adjust as needed\n",
    "#             do_sample=False,         # greedy decoding for speed\n",
    "#             pad_token_id=tokenizer.eos_token_id\n",
    "#         )\n",
    "\n",
    "#     # Decode and extract SQL part\n",
    "#     text = tokenizer.decode(outputs[0], skip_special_tokens=True)\n",
    "#     sql = text.split(\"Here's a PostgreSQL query to answer your question:\")[-1].strip()\n",
    "\n",
    "#     # Cache and return\n",
    "#     _sql_cache[question] = sql\n",
    "#     return sql\n",
    "\n",
    "\n",
    "# def query_nodedata(question: str):\n",
    "#     print(f\"Question: {question}\\n\")\n",
    "#     sql_query = generate_sql_for_nodedata(question)\n",
    "#     print(\"Generated SQL Query:\")\n",
    "#     print(sql_query)\n",
    "#     print(\"\\nQuery Result:\")\n",
    "\n",
    "#     try:\n",
    "#         result = pd.read_sql_query(sql_query, engine)\n",
    "#         display(result)\n",
    "#     except Exception as e:\n",
    "#         print(f\"Error executing query: {e}\")"
   ]
  },
  {
   "cell_type": "code",
   "execution_count": 9,
   "metadata": {},
   "outputs": [
    {
     "name": "stderr",
     "output_type": "stream",
     "text": [
      "/Users/adityakumarraj/Desktop/sqlcoder-8b/venv/lib/python3.9/site-packages/transformers/generation/configuration_utils.py:631: UserWarning: `do_sample` is set to `False`. However, `temperature` is set to `0` -- this flag is only used in sample-based generation modes. You should set `do_sample=True` or unset `temperature`.\n",
      "  warnings.warn(\n"
     ]
    },
    {
     "data": {
      "text/plain": [
       "'SELECT *\\nFROM nodedata\\nORDER BY created ASC\\nLIMIT 5;'"
      ]
     },
     "execution_count": 9,
     "metadata": {},
     "output_type": "execute_result"
    }
   ],
   "source": [
    "question = \"Show me the first 5 rows from the nodedata table\"\n",
    "generate_query(question)"
   ]
  },
  {
   "cell_type": "code",
   "execution_count": 11,
   "metadata": {},
   "outputs": [
    {
     "data": {
      "text/plain": [
       "\"SELECT n.nodename\\nFROM nodedata n\\nWHERE n.created > CURRENT_DATE - INTERVAL '7 days'\\nORDER BY n.created DESC NULLS LAST;\""
      ]
     },
     "execution_count": 11,
     "metadata": {},
     "output_type": "execute_result"
    }
   ],
   "source": [
    "\n",
    "question =   \"Show me the nodes created in the last 7 days\",\n",
    "generate_query(question) \n",
    "    # Multiple conditions\n"
   ]
  },
  {
   "cell_type": "code",
   "execution_count": null,
   "metadata": {},
   "outputs": [
    {
     "data": {
      "text/plain": [
       "'SELECT instancetype,\\n       COUNT(*) AS COUNT\\nFROM nodedata\\nGROUP BY instancetype\\nORDER BY COUNT DESC NULLS LAST;'"
      ]
     },
     "execution_count": 13,
     "metadata": {},
     "output_type": "execute_result"
    }
   ],
   "source": [
    "question =\"What is the distribution of instance types?\",\n",
    "generate_query(question)  \n",
    "    # Complex combinations\n"
   ]
  },
  {
   "cell_type": "code",
   "execution_count": null,
   "metadata": {},
   "outputs": [
    {
     "data": {
      "text/plain": [
       "\"SELECT nd.nodename\\nFROM nodedata nd\\nWHERE nd.clustername ='sensei-eks01-prod-cluster';\""
      ]
     },
     "execution_count": 14,
     "metadata": {},
     "output_type": "execute_result"
    }
   ],
   "source": [
    "question =\"What are all the nodes in the 'sensei-eks01-prod-cluster' cluster?\",\n",
    "generate_query(question) \n",
    "    # Pattern matching\n"
   ]
  },
  {
   "cell_type": "code",
   "execution_count": null,
   "metadata": {},
   "outputs": [
    {
     "data": {
      "text/plain": [
       "\"SELECT date_trunc('day', n.created) AS creation_date,\\n       COUNT(*) AS num_nodes\\nFROM nodedata n\\nGROUP BY creation_date\\nORDER BY creation_date NULLS LAST;\""
      ]
     },
     "execution_count": 15,
     "metadata": {},
     "output_type": "execute_result"
    }
   ],
   "source": [
    "question =\"Show the number of nodes created per day\"\n",
    "generate_query(question) "
   ]
  },
  {
   "cell_type": "code",
   "execution_count": 16,
   "metadata": {},
   "outputs": [
    {
     "data": {
      "text/plain": [
       "'SELECT n.clustername,\\n       COUNT(n.nodeid) AS num_nodes\\nFROM nodedata n\\nGROUP BY n.clustername\\nORDER BY num_nodes DESC NULLS LAST;'"
      ]
     },
     "execution_count": 16,
     "metadata": {},
     "output_type": "execute_result"
    }
   ],
   "source": [
    "question =    \"How many nodes are there per cluster?\",\n",
    "generate_query(question) "
   ]
  },
  {
   "cell_type": "code",
   "execution_count": 17,
   "metadata": {},
   "outputs": [
    {
     "data": {
      "text/plain": [
       "'SELECT n.platform,\\n       n.instancetype\\nFROM nodedata n\\nGROUP BY n.platform,\\n         n.instancetype\\nORDER BY n.platform,\\n         n.instancetype NULLS LAST;'"
      ]
     },
     "execution_count": 17,
     "metadata": {},
     "output_type": "execute_result"
    }
   ],
   "source": [
    "question =  \"What are the instance types used in each platform?\",\n",
    "generate_query(question) \n",
    "    # Aggregations"
   ]
  },
  {
   "cell_type": "code",
   "execution_count": 19,
   "metadata": {},
   "outputs": [
    {
     "data": {
      "text/plain": [
       "'SELECT n.clustername,\\n       COUNT(n.nodeid) AS node_count,\\n       n.platform\\nFROM nodedata n\\nGROUP BY n.clustername,\\n         n.platform\\nHAVING COUNT(n.nodeid) > 5\\nORDER BY n.clustername,\\n         n.platform NULLS LAST;'"
      ]
     },
     "execution_count": 19,
     "metadata": {},
     "output_type": "execute_result"
    }
   ],
   "source": [
    "question =\"Show me the clusters that have more than 5 nodes, grouped by platform\",\n",
    "generate_query(question) \n",
    "    # Specific lookups"
   ]
  },
  {
   "cell_type": "code",
   "execution_count": 18,
   "metadata": {},
   "outputs": [
    {
     "data": {
      "text/plain": [
       "\"SELECT n.nodename\\nFROM nodedata n\\nWHERE n.nodename ilike '%compute%';\""
      ]
     },
     "execution_count": 18,
     "metadata": {},
     "output_type": "execute_result"
    }
   ],
   "source": [
    "question =\"Find all nodes that have 'compute' in their name\",\n",
    "generate_query(question) \n"
   ]
  }
 ],
 "metadata": {
  "kernelspec": {
   "display_name": "venv",
   "language": "python",
   "name": "python3"
  },
  "language_info": {
   "codemirror_mode": {
    "name": "ipython",
    "version": 3
   },
   "file_extension": ".py",
   "mimetype": "text/x-python",
   "name": "python",
   "nbconvert_exporter": "python",
   "pygments_lexer": "ipython3",
   "version": "3.9.6"
  }
 },
 "nbformat": 4,
 "nbformat_minor": 2
}
